{
  "nbformat": 4,
  "nbformat_minor": 0,
  "metadata": {
    "colab": {
      "provenance": []
    },
    "kernelspec": {
      "name": "python3",
      "display_name": "Python 3"
    },
    "language_info": {
      "name": "python"
    }
  },
  "cells": [
    {
      "cell_type": "code",
      "execution_count": 1,
      "metadata": {
        "id": "vBiUfQW--WRz"
      },
      "outputs": [],
      "source": [
        "import pandas as pd\n",
        "import matplotlib.pyplot as plt\n",
        "from sklearn.cluster import KMeans\n",
        "from sklearn.metrics.pairwise import cosine_similarity\n",
        "from textblob import TextBlob\n",
        "from sklearn.model_selection import train_test_split\n",
        "from sklearn.ensemble import RandomForestClassifier\n",
        "from sklearn.metrics import accuracy_score\n"
      ]
    },
    {
      "cell_type": "code",
      "source": [
        "transactions = pd.read_csv('transactions.csv')\n",
        "feedback = pd.read_csv('customer_feedback.csv')"
      ],
      "metadata": {
        "id": "47bYVXe__mpX"
      },
      "execution_count": 4,
      "outputs": []
    },
    {
      "cell_type": "code",
      "source": [
        "transactions.dropna(inplace=True)\n",
        "feedback.dropna(inplace=True)\n",
        "transactions['transaction_date'] = pd.to_datetime(transactions['transaction_date'])\n",
        "feedback['date'] = pd.to_datetime(feedback['date'])"
      ],
      "metadata": {
        "id": "NqBCghmQ_8kq"
      },
      "execution_count": 5,
      "outputs": []
    },
    {
      "cell_type": "code",
      "source": [
        "customer_data = transactions.groupby('customer_id').agg({\n",
        "    'transaction_amount': ['sum', 'mean'],\n",
        "    'transaction_date': 'count'\n",
        "}).reset_index()\n",
        "customer_data.columns = ['customer_id', 'total_spent', 'average_spent', 'transaction_count']\n",
        "\n",
        "kmeans = KMeans(n_clusters=4, random_state=0)\n",
        "customer_data['segment'] = kmeans.fit_predict(customer_data[['total_spent', 'average_spent', 'transaction_count']])\n"
      ],
      "metadata": {
        "colab": {
          "base_uri": "https://localhost:8080/"
        },
        "id": "4HtdRxFE_-0J",
        "outputId": "40dc91b8-f129-426f-f498-36100e14dedd"
      },
      "execution_count": 6,
      "outputs": [
        {
          "output_type": "stream",
          "name": "stderr",
          "text": [
            "/usr/local/lib/python3.10/dist-packages/sklearn/cluster/_kmeans.py:1416: FutureWarning: The default value of `n_init` will change from 10 to 'auto' in 1.4. Set the value of `n_init` explicitly to suppress the warning\n",
            "  super()._check_params_vs_input(X, default_n_init=10)\n"
          ]
        }
      ]
    },
    {
      "cell_type": "code",
      "source": [
        "plt.figure(figsize=(12, 6))\n",
        "for segment in customer_data['segment'].unique():\n",
        "    segment_data = customer_data[customer_data['segment'] == segment]\n",
        "    plt.plot(segment_data.index, segment_data['total_spent'], label=f'Segment {segment}')\n",
        "\n",
        "plt.xlabel('Index')\n",
        "plt.ylabel('Total Spent')\n",
        "plt.title('Customer Spending by Segment')\n",
        "plt.legend()\n",
        "plt.show()"
      ],
      "metadata": {
        "colab": {
          "base_uri": "https://localhost:8080/",
          "height": 483
        },
        "id": "QKoBHKzHAGm6",
        "outputId": "8fe4787b-f683-461e-d572-fd26f872fa29"
      },
      "execution_count": 7,
      "outputs": [
        {
          "output_type": "display_data",
          "data": {
            "text/plain": [
              "<Figure size 1200x600 with 1 Axes>"
            ],
            "image/png": "[encoded data removed]"
          },
          "metadata": {}
        }
      ]
    },
    {
      "cell_type": "code",
      "source": [
        "product_data = transactions.pivot_table(index='customer_id', columns='product_id', values='transaction_amount', fill_value=0)\n",
        "product_similarity = cosine_similarity(product_data)\n",
        "\n",
        "def recommend_products(customer_id, product_data, product_similarity, n_recommendations=5):\n",
        "    customer_idx = product_data.index.get_loc(customer_id)\n",
        "    similarity_scores = product_similarity[customer_idx]\n",
        "    product_indices = similarity_scores.argsort()[-n_recommendations:][::-1]\n",
        "    recommended_products = product_data.columns[product_indices]\n",
        "    return recommended_products"
      ],
      "metadata": {
        "id": "FD2K1R1iAMG0"
      },
      "execution_count": 8,
      "outputs": []
    },
    {
      "cell_type": "code",
      "source": [
        "customer_id = 1  # Change this to test with different customers\n",
        "recommended_products = recommend_products(customer_id, product_data, product_similarity)\n",
        "print(f'Recommended products for customer {customer_id}: {recommended_products}')"
      ],
      "metadata": {
        "colab": {
          "base_uri": "https://localhost:8080/"
        },
        "id": "Py-_QpOhATT2",
        "outputId": "55dbee79-355e-453a-c35d-2c755a3a32c5"
      },
      "execution_count": 9,
      "outputs": [
        {
          "output_type": "stream",
          "name": "stdout",
          "text": [
            "Recommended products for customer 1: Index([101, 104, 102, 103, 105], dtype='int64', name='product_id')\n"
          ]
        }
      ]
    },
    {
      "cell_type": "code",
      "source": [
        "def analyze_sentiment(feedback_text):\n",
        "    analysis = TextBlob(feedback_text)\n",
        "    if analysis.sentiment.polarity > 0:\n",
        "        return 'Positive'\n",
        "    elif analysis.sentiment.polarity < 0:\n",
        "        return 'Negative'\n",
        "    else:\n",
        "        return 'Neutral'\n",
        "\n",
        "feedback['sentiment'] = feedback['feedback'].apply(analyze_sentiment)\n",
        "print(feedback[['feedback', 'sentiment']].head())"
      ],
      "metadata": {
        "colab": {
          "base_uri": "https://localhost:8080/"
        },
        "id": "dcpD2JLNAWnC",
        "outputId": "21362355-0636-4c25-8c57-0d9779606a9f"
      },
      "execution_count": 10,
      "outputs": [
        {
          "output_type": "stream",
          "name": "stdout",
          "text": [
            "                               feedback sentiment\n",
            "0                The service was great!  Positive\n",
            "1  Had some issues with my transaction.   Neutral\n",
            "2      Very satisfied with the support.  Positive\n",
            "3        Not happy with the new policy.  Negative\n",
            "4           Excellent customer service.  Positive\n"
          ]
        }
      ]
    },
    {
      "cell_type": "code",
      "source": [
        "feedback['transaction_count'] = feedback['customer_id'].map(customer_data.set_index('customer_id')['transaction_count'])\n",
        "feedback['total_spent'] = feedback['customer_id'].map(customer_data.set_index('customer_id')['total_spent'])\n",
        "feedback['average_spent'] = feedback['customer_id'].map(customer_data.set_index('customer_id')['average_spent'])\n",
        "\n",
        "X = feedback[['transaction_count', 'total_spent', 'average_spent']]\n",
        "y = feedback['campaign_response']\n",
        "\n",
        "X_train, X_test, y_train, y_test = train_test_split(X, y, test_size=0.3, random_state=42)\n",
        "\n",
        "model = RandomForestClassifier(n_estimators=100, random_state=42)\n",
        "model.fit(X_train, y_train)\n",
        "\n",
        "y_pred = model.predict(X_test)\n",
        "accuracy = accuracy_score(y_test, y_pred)\n",
        "print(f'Model Accuracy: {accuracy * 100:.2f}%')\n",
        "\n",
        "new_campaign_data = pd.DataFrame({\n",
        "    'transaction_count': [5, 15, 30],\n",
        "    'total_spent': [500, 2000, 5000],\n",
        "    'average_spent': [100, 133.33, 166.67]\n",
        "})\n",
        "\n",
        "new_campaign_predictions = model.predict(new_campaign_data)\n",
        "print('Campaign Response Predictions:', new_campaign_predictions)"
      ],
      "metadata": {
        "colab": {
          "base_uri": "https://localhost:8080/"
        },
        "id": "ujs3w2chAdu5",
        "outputId": "72c64f2c-a7ed-4178-a6d0-b4ca786e94bb"
      },
      "execution_count": 11,
      "outputs": [
        {
          "output_type": "stream",
          "name": "stdout",
          "text": [
            "Model Accuracy: 50.00%\n",
            "Campaign Response Predictions: [1 1 1]\n"
          ]
        }
      ]
    }
  ]
}